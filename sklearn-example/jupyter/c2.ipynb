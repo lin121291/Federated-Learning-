{
 "cells": [
  {
   "cell_type": "code",
   "execution_count": 1,
   "metadata": {},
   "outputs": [
    {
     "name": "stderr",
     "output_type": "stream",
     "text": [
      "INFO flower 2022-04-14 10:59:32,291 | connection.py:102 | Opened insecure gRPC connection (no certificates were passed)\n",
      "DEBUG flower 2022-04-14 10:59:32,295 | connection.py:39 | ChannelConnectivity.IDLE\n",
      "DEBUG flower 2022-04-14 10:59:32,298 | connection.py:39 | ChannelConnectivity.CONNECTING\n",
      "DEBUG flower 2022-04-14 10:59:32,304 | connection.py:39 | ChannelConnectivity.READY\n"
     ]
    },
    {
     "name": "stdout",
     "output_type": "stream",
     "text": [
      "[[0. 0. 0. ... 0. 0. 0.]\n",
      " [0. 0. 0. ... 0. 0. 0.]\n",
      " [0. 0. 0. ... 0. 0. 0.]\n",
      " ...\n",
      " [0. 0. 0. ... 0. 0. 0.]\n",
      " [0. 0. 0. ... 0. 0. 0.]\n",
      " [0. 0. 0. ... 0. 0. 0.]]\n",
      "[7. 2. 1. ... 4. 5. 6.]\n",
      "Training finished for round 1\n",
      "Training finished for round 2\n",
      "Training finished for round 3\n",
      "Training finished for round 4\n",
      "Training finished for round 5\n"
     ]
    },
    {
     "name": "stderr",
     "output_type": "stream",
     "text": [
      "DEBUG flower 2022-04-14 10:59:50,070 | connection.py:121 | gRPC channel closed\n",
      "INFO flower 2022-04-14 10:59:50,073 | app.py:101 | Disconnect and shut down\n"
     ]
    }
   ],
   "source": [
    "import warnings\n",
    "import flwr as fl\n",
    "import numpy as np\n",
    "import utils\n",
    "from sklearn.linear_model import LogisticRegression\n",
    "from sklearn.metrics import log_loss\n",
    "\n",
    "if __name__ == \"__main__\":\n",
    "    # Load MNIST dataset from https://www.openml.org/d/554\n",
    "    (X_train, y_train), (X_test, y_test) = utils.load_mnist()\n",
    "\n",
    "    # Split train set into 10 partitions and randomly use one for training.\n",
    "    partition_id = np.random.choice(10)\n",
    "    (X_train, y_train) = utils.partition(X_train, y_train, 10)[partition_id]\n",
    "\n",
    "    # Create LogisticRegression Model\n",
    "    model = LogisticRegression(\n",
    "        penalty=\"l2\",\n",
    "        max_iter=1,  # local epoch\n",
    "        warm_start=True,  # prevent refreshing weights when fitting\n",
    "    )\n",
    "\n",
    "    # Setting initial parameters, akin to model.compile for keras models\n",
    "    utils.set_initial_params(model)\n",
    "\n",
    "    #要記住數值的\n",
    "    arr = 'c2 '\n",
    "\n",
    "    # Define Flower client\n",
    "    class MnistClient(fl.client.NumPyClient):\n",
    "\n",
    "        def get_parameters(self):  # type: ignore\n",
    "            return utils.get_model_parameters(model)\n",
    "\n",
    "        def fit(self, parameters, config):  # type: ignore\n",
    "            \"\"\"\n",
    "            #server端的正確率\n",
    "            server_ac=model.score(X_test, y_test)\n",
    "            server_arr.append(server_ac)\n",
    "            \"\"\"\n",
    "\n",
    "            utils.set_model_params(model, parameters)\n",
    "            # Ignore convergence failure due to low local epochs\n",
    "            with warnings.catch_warnings():\n",
    "                warnings.simplefilter(\"ignore\")\n",
    "                model.fit(X_train, y_train)\n",
    "            print(f\"Training finished for round {config['rnd']}\")\n",
    "\n",
    "            global arr\n",
    "            # 存住 正確率\n",
    "            ac = model.score(X_test, y_test)\n",
    "            arr = arr + str(ac) + ' '\n",
    "\n",
    "            return utils.get_model_parameters(model), len(X_train), {}\n",
    "\n",
    "        def evaluate(self, parameters, config):  # type: ignore\n",
    "            utils.set_model_params(model, parameters)\n",
    "            loss = log_loss(y_test, model.predict_proba(X_test))\n",
    "            accuracy = model.score(X_test, y_test)\n",
    "            return loss, len(X_test), {\"accuracy\": accuracy}\n",
    "\n",
    "    # Start Flower client\n",
    "    fl.client.start_numpy_client(\"0.0.0.0:8080\", client=MnistClient())\n",
    "\n",
    "    f = open(\"output.txt\", \"a\")\n",
    "    f.writelines(arr)\n",
    "    f.writelines(\"\\n\")\n",
    "\n",
    "    # 關閉檔案\n",
    "    f.close()"
   ]
  }
 ],
 "metadata": {
  "interpreter": {
   "hash": "9eb9b9929157070d88a78b20d58b818775cb3d43e7d28553eb71bfda34685eb3"
  },
  "kernelspec": {
   "display_name": "Python 3.8.10 ('venv': venv)",
   "language": "python",
   "name": "python3"
  },
  "language_info": {
   "codemirror_mode": {
    "name": "ipython",
    "version": 3
   },
   "file_extension": ".py",
   "mimetype": "text/x-python",
   "name": "python",
   "nbconvert_exporter": "python",
   "pygments_lexer": "ipython3",
   "version": "3.8.10"
  },
  "orig_nbformat": 4
 },
 "nbformat": 4,
 "nbformat_minor": 2
}
